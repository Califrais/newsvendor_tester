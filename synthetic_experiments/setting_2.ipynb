{
 "cells": [
  {
   "attachments": {},
   "cell_type": "markdown",
   "metadata": {},
   "source": [
    "# Simulation of a single-product perishable inventory problem (Setting 2)"
   ]
  },
  {
   "cell_type": "code",
   "execution_count": null,
   "metadata": {},
   "outputs": [],
   "source": [
    "### This cell should be run once\n",
    "%load_ext autoreload\n",
    "%autoreload 2\n",
    "%cd .."
   ]
  },
  {
   "cell_type": "code",
   "execution_count": 2,
   "metadata": {},
   "outputs": [],
   "source": [
    "import pandas as pd\n",
    "import scipy.stats\n",
    "import numpy as np\n",
    "import matplotlib.pyplot as plt\n",
    "\n",
    "from environment import *\n",
    "from algorithms.cup import CUP_algorithm\n",
    "from algorithms.maxcosd_box import MaxCOSD_Box_algorithm\n",
    "from simulator import Simulator\n",
    "\n",
    "from tqdm import tqdm"
   ]
  },
  {
   "attachments": {},
   "cell_type": "markdown",
   "metadata": {},
   "source": [
    "### Defining the environment\n",
    "* Horizon: $T=1969$\n",
    "* Number of runs: $N=10$\n",
    "* Number of products: $n=1$\n",
    "* Demand distribution: $d_{t,1}\\sim\\text{Poisson}(1)$\n",
    "* Cost parameters: $h=1$, $p=200$\n",
    "* Feasible set: $\\mathcal{Y}=[0,10]$\n",
    "* Constants: $G = \\max\\{h,p\\}$"
   ]
  },
  {
   "cell_type": "code",
   "execution_count": 3,
   "metadata": {},
   "outputs": [],
   "source": [
    "nb_samples = 10\n",
    "nb_products = 1\n",
    "horizon = 1969\n",
    "holding_costs = np.ones(nb_products)\n",
    "penalty_costs = 200*np.ones(nb_products)\n",
    "\n",
    "np.random.seed(1)\n",
    "envs = []\n",
    "for sample_id in range(nb_samples) :\n",
    "    demands = np.zeros((horizon+1,nb_products))\n",
    "    demands[1:,:] = scipy.stats.poisson(1).rvs(size=(horizon, nb_products))\n",
    "    envs.append(Environment_Perishable_Newsvendor(2, demands,holding_costs,penalty_costs))"
   ]
  },
  {
   "cell_type": "code",
   "execution_count": 4,
   "metadata": {},
   "outputs": [],
   "source": [
    "y_min = 0*np.ones(nb_products)\n",
    "y_max = 10*np.ones(nb_products)\n",
    "G = np.sqrt(nb_products)*np.max(np.maximum(holding_costs,penalty_costs))"
   ]
  },
  {
   "attachments": {},
   "cell_type": "markdown",
   "metadata": {},
   "source": [
    "### Defining the algorithms\n",
    "* 55 instances of CUP with $\\gamma$ ranging from $10^{-5}$ to $10^1$\n",
    "* 55 instances of MaxCOSD with $\\gamma$ ranging from $10^{-5}$ to $10^1$"
   ]
  },
  {
   "cell_type": "code",
   "execution_count": 5,
   "metadata": {},
   "outputs": [],
   "source": [
    "initial_decision = np.zeros(nb_products)\n",
    "list_gamma = [10**exponent for exponent in np.linspace(-5,1,9*6+1)]\n",
    "\n",
    "algs = [CUP_algorithm(initial_decision, y_min,y_max, gamma, G) for gamma in list_gamma]\n",
    "algs += [MaxCOSD_Box_algorithm(initial_decision,y_min,y_max,gamma) for gamma in list_gamma]\n",
    "    \n",
    "nb_algs = len(algs)"
   ]
  },
  {
   "cell_type": "markdown",
   "metadata": {},
   "source": [
    "### Running the simulation"
   ]
  },
  {
   "cell_type": "code",
   "execution_count": 6,
   "metadata": {},
   "outputs": [
    {
     "name": "stderr",
     "output_type": "stream",
     "text": [
      "100%|██████████| 110/110 [00:14<00:00,  7.57it/s]\n",
      "100%|██████████| 110/110 [00:14<00:00,  7.39it/s]\n",
      "100%|██████████| 110/110 [00:14<00:00,  7.55it/s]\n",
      "100%|██████████| 110/110 [00:14<00:00,  7.65it/s]\n",
      "100%|██████████| 110/110 [00:14<00:00,  7.61it/s]\n",
      "100%|██████████| 110/110 [00:14<00:00,  7.61it/s]\n",
      "100%|██████████| 110/110 [00:14<00:00,  7.64it/s]\n",
      "100%|██████████| 110/110 [00:14<00:00,  7.70it/s]\n",
      "100%|██████████| 110/110 [00:14<00:00,  7.70it/s]\n",
      "100%|██████████| 110/110 [00:13<00:00,  7.86it/s]\n"
     ]
    }
   ],
   "source": [
    "horizons = np.unique(np.logspace(np.log10(1),np.log10(horizon),100).astype(int))\n",
    "\n",
    "sim = Simulator(envs, nb_products, nb_samples, horizons, algs,\n",
    "    lambda optimum : ((optimum>=y_min).all() and (optimum<=y_max).all()), holding_costs,penalty_costs)\n",
    "cum_losses = sim.run()"
   ]
  },
  {
   "attachments": {},
   "cell_type": "markdown",
   "metadata": {},
   "source": [
    "### Figures\n",
    "#### $R_T$ as a function of $\\gamma$ in semilogx scale"
   ]
  },
  {
   "cell_type": "code",
   "execution_count": 19,
   "metadata": {},
   "outputs": [
    {
     "data": {
      "image/png": "[encoded data removed]",
      "text/plain": [
       "<Figure size 299.52x209.52 with 1 Axes>"
      ]
     },
     "metadata": {
      "needs_background": "light"
     },
     "output_type": "display_data"
    }
   ],
   "source": [
    "cup_mean_regret = np.array([np.mean(cum_losses[:,gamma_index,-1]-cum_losses[:,0,-1]) for gamma_index in range(1,len(list_gamma)+1)])\n",
    "maxcosd_mean_regret = np.array([np.mean(cum_losses[:,gamma_index,-1]-cum_losses[:,0,-1]) for gamma_index in range(1*len(list_gamma)+1,2*len(list_gamma)+1)])\n",
    "\n",
    "plt.figure(figsize=(4.16,2.91))\n",
    "plt.semilogx(list_gamma,cup_mean_regret, color=\"red\", label=\"CUP\",linestyle=\"--\")\n",
    "plt.semilogx(list_gamma,maxcosd_mean_regret, color=\"blue\", label=\"MaxCOSD\")\n",
    "\n",
    "plt.xlabel(r\"$\\gamma$\")\n",
    "plt.legend(loc=\"lower left\")\n",
    "plt.ticklabel_format(axis='y', style='sci', scilimits=(0,0))\n",
    "plt.tight_layout()\n",
    "plt.savefig(\"images/setting_2_gamma_logx.png\", dpi=300)\n",
    "plt.show()"
   ]
  },
  {
   "cell_type": "markdown",
   "metadata": {},
   "source": [
    "#### $R_T$ as a function of $\\gamma$ in loglog scale"
   ]
  },
  {
   "cell_type": "code",
   "execution_count": 18,
   "metadata": {},
   "outputs": [
    {
     "data": {
      "image/png": "[encoded data removed]",
      "text/plain": [
       "<Figure size 299.52x209.52 with 1 Axes>"
      ]
     },
     "metadata": {
      "needs_background": "light"
     },
     "output_type": "display_data"
    }
   ],
   "source": [
    "cup_mean_regret = np.array([np.mean(cum_losses[:,gamma_index,-1]-cum_losses[:,0,-1]) for gamma_index in range(1,len(list_gamma)+1)])\n",
    "maxcosd_mean_regret = np.array([np.mean(cum_losses[:,gamma_index,-1]-cum_losses[:,0,-1]) for gamma_index in range(1*len(list_gamma)+1,2*len(list_gamma)+1)])\n",
    "\n",
    "plt.figure(figsize=(4.16,2.91))\n",
    "plt.loglog(list_gamma,cup_mean_regret, color=\"red\", label=\"CUP\",linestyle=\"--\")\n",
    "plt.loglog(list_gamma,maxcosd_mean_regret, color=\"blue\", label=\"MaxCOSD\")\n",
    "\n",
    "plt.xlabel(r\"$\\gamma$\")\n",
    "plt.legend(loc=\"lower left\")\n",
    "plt.tight_layout()\n",
    "plt.savefig(\"images/setting_2_gamma_loglog.png\", dpi=300)\n",
    "plt.show()"
   ]
  },
  {
   "cell_type": "markdown",
   "metadata": {},
   "source": [
    "#### $R_T/T$ as a function of $T$ in loglog scale"
   ]
  },
  {
   "cell_type": "code",
   "execution_count": 17,
   "metadata": {},
   "outputs": [
    {
     "data": {
      "image/png": "[encoded data removed]",
      "text/plain": [
       "<Figure size 360x252 with 1 Axes>"
      ]
     },
     "metadata": {
      "needs_background": "light"
     },
     "output_type": "display_data"
    }
   ],
   "source": [
    "cup_gamma_index_opt = np.argmin(cum_losses[0,1:len(list_gamma)+1,-1])+1\n",
    "maxcosd_gamma_index_opt = np.argmin(cum_losses[0,1*len(list_gamma)+1:2*len(list_gamma)+1,-1])+1*len(list_gamma)+1\n",
    "colors = {cup_gamma_index_opt:\"red\", maxcosd_gamma_index_opt:\"blue\"}\n",
    "linestyles = {cup_gamma_index_opt:\"--\", maxcosd_gamma_index_opt:\"-\"}\n",
    "\n",
    "plt.figure(figsize=(5,3.5))\n",
    "\n",
    "for i in [cup_gamma_index_opt, maxcosd_gamma_index_opt] :\n",
    "    y = np.mean(cum_losses[:,i,:]-cum_losses[:,0,:],axis=0)\n",
    "    plt.loglog(horizons, y/horizons,label=algs[i-1], color=colors[i], linestyle=linestyles[i])\n",
    "    \n",
    "plt.loglog(horizons,2*10**2/np.sqrt(horizons),\"-.\",color=\"k\",label=r\"$\\Theta(1/\\sqrt{T})$\")\n",
    "\n",
    "plt.xlabel(\"Horizon (T)\")\n",
    "plt.legend(loc=\"lower left\")\n",
    "plt.tight_layout()\n",
    "plt.savefig(\"images/setting_2_avgregret.png\", dpi=300)\n",
    "plt.show()"
   ]
  }
 ],
 "metadata": {
  "kernelspec": {
   "display_name": "Python 3.8.5 ('.env': venv)",
   "language": "python",
   "name": "python3"
  },
  "language_info": {
   "codemirror_mode": {
    "name": "ipython",
    "version": 3
   },
   "file_extension": ".py",
   "mimetype": "text/x-python",
   "name": "python",
   "nbconvert_exporter": "python",
   "pygments_lexer": "ipython3",
   "version": "3.8.5"
  },
  "orig_nbformat": 4,
  "vscode": {
   "interpreter": {
    "hash": "7101c6642c440e6418ba237b307f68332c965afb71baf456fe96b8b541e130eb"
   }
  }
 },
 "nbformat": 4,
 "nbformat_minor": 2
}
