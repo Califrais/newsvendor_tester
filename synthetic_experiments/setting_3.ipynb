{
 "cells": [
  {
   "attachments": {},
   "cell_type": "markdown",
   "metadata": {},
   "source": [
    "# Simulation of a multi-product lost sales inventory problem with capacity constraints (Setting 3)"
   ]
  },
  {
   "cell_type": "code",
   "execution_count": null,
   "metadata": {},
   "outputs": [],
   "source": [
    "### This cell should be run once\n",
    "%load_ext autoreload\n",
    "%autoreload 2\n",
    "%cd .."
   ]
  },
  {
   "cell_type": "code",
   "execution_count": 2,
   "metadata": {},
   "outputs": [],
   "source": [
    "import pandas as pd\n",
    "import scipy.stats\n",
    "import numpy as np\n",
    "import matplotlib.pyplot as plt\n",
    "\n",
    "from environment import *\n",
    "from algorithms.ddm import DDM_algorithm\n",
    "from algorithms.maxcosd_volume_constrained import MaxCOSD_Volume_Constrained_algorithm\n",
    "from simulator import Simulator\n",
    "\n",
    "from tqdm import tqdm"
   ]
  },
  {
   "attachments": {},
   "cell_type": "markdown",
   "metadata": {},
   "source": [
    "### Defining the environment\n",
    "* Horizon: $T=1969$\n",
    "* Number of runs: $N=10$\n",
    "* Number of products: $n=100$\n",
    "* Demand distribution: $d_{t,i}\\sim\\text{Poisson}(\\lambda_i)$ where $\\lambda_i \\sim \\text{Unif}[1,2]$\n",
    "* Cost parameters: $h_i=1$, $p_i=200$\n",
    "* Feasible set: $\\mathcal{Y}=\\{y\\in\\R_+^n \\; |\\; \\sum_{i=1}^n y_i \\leq 660 \\}$\n",
    "* Constants: $G = \\sqrt{n}\\max_{i\\in[n]}\\max\\{h_i,p_i\\}$"
   ]
  },
  {
   "cell_type": "code",
   "execution_count": 3,
   "metadata": {},
   "outputs": [],
   "source": [
    "nb_samples = 10\n",
    "nb_products = 100\n",
    "horizon = 1969\n",
    "holding_costs = np.ones(nb_products)\n",
    "penalty_costs = 200*np.ones(nb_products)\n",
    "\n",
    "np.random.seed(1)\n",
    "intensities = np.random.uniform(low=1,high=2, size=nb_products)\n",
    "envs = []\n",
    "for sample_id in range(nb_samples) :\n",
    "    demands = np.zeros((horizon+1,nb_products))\n",
    "    for product_id in range(nb_products) :\n",
    "        demands[1:, product_id] = scipy.stats.poisson(intensities[product_id]).rvs(size=(horizon))\n",
    "    envs.append(Environment_NonPerishable_Newsvendor(demands, holding_costs, penalty_costs))"
   ]
  },
  {
   "cell_type": "code",
   "execution_count": 4,
   "metadata": {},
   "outputs": [],
   "source": [
    "volumes = np.ones(nb_products)\n",
    "total_volume = 660.0\n",
    "diameter = total_volume*np.sqrt(1/(np.sort(volumes)[0]**2)+1/(np.sort(volumes)[1]**2))\n",
    "G = np.sqrt(nb_products)*np.max(np.maximum(holding_costs,penalty_costs))"
   ]
  },
  {
   "attachments": {},
   "cell_type": "markdown",
   "metadata": {},
   "source": [
    "### Defining the algorithms\n",
    "* 55 instances of DDM with $\\gamma$ ranging from $10^{-5}$ to $10^1$\n",
    "* 55 instances of MaxCOSD with $\\gamma$ ranging from $10^{-5}$ to $10^1$"
   ]
  },
  {
   "cell_type": "code",
   "execution_count": 5,
   "metadata": {},
   "outputs": [],
   "source": [
    "initial_decision = np.zeros(nb_products)\n",
    "list_gamma = [10**exponent for exponent in np.linspace(-5,1,9*6+1)]\n",
    "\n",
    "algs = [DDM_algorithm(initial_decision, volumes,total_volume, gamma, G, holding_costs, penalty_costs) for gamma in list_gamma]\n",
    "algs += [MaxCOSD_Volume_Constrained_algorithm(initial_decision,volumes,total_volume,gamma) for gamma in list_gamma]\n",
    "    \n",
    "nb_algs = len(algs)"
   ]
  },
  {
   "cell_type": "markdown",
   "metadata": {},
   "source": [
    "### Running the simulation"
   ]
  },
  {
   "cell_type": "code",
   "execution_count": 6,
   "metadata": {},
   "outputs": [
    {
     "name": "stderr",
     "output_type": "stream",
     "text": [
      "100%|██████████| 110/110 [00:25<00:00,  4.24it/s]\n",
      "100%|██████████| 110/110 [00:26<00:00,  4.16it/s]\n",
      "100%|██████████| 110/110 [00:25<00:00,  4.27it/s]\n",
      "100%|██████████| 110/110 [00:25<00:00,  4.26it/s]\n",
      "100%|██████████| 110/110 [00:26<00:00,  4.16it/s]\n",
      "100%|██████████| 110/110 [00:26<00:00,  4.20it/s]\n",
      "100%|██████████| 110/110 [00:25<00:00,  4.36it/s]\n",
      "100%|██████████| 110/110 [00:25<00:00,  4.24it/s]\n",
      "100%|██████████| 110/110 [00:25<00:00,  4.25it/s]\n",
      "100%|██████████| 110/110 [00:26<00:00,  4.20it/s]\n"
     ]
    }
   ],
   "source": [
    "horizons = np.unique(np.logspace(np.log10(1),np.log10(horizon),100).astype(int))\n",
    "\n",
    "sim = Simulator(envs, nb_products, nb_samples, horizons, algs,\n",
    "    lambda optimum : np.sum(volumes*optimum)<=total_volume, holding_costs, penalty_costs)\n",
    "cum_losses = sim.run()"
   ]
  },
  {
   "cell_type": "markdown",
   "metadata": {},
   "source": [
    "### Figures\n",
    "#### $R_T$ as a function of $\\gamma$ in semilogx scale"
   ]
  },
  {
   "cell_type": "code",
   "execution_count": 10,
   "metadata": {},
   "outputs": [
    {
     "data": {
      "image/png": "[encoded data removed]",
      "text/plain": [
       "<Figure size 299.52x209.52 with 1 Axes>"
      ]
     },
     "metadata": {
      "needs_background": "light"
     },
     "output_type": "display_data"
    }
   ],
   "source": [
    "ddm_mean_regret = np.array([np.mean(cum_losses[:,gamma_index,-1]-cum_losses[:,0,-1]) for gamma_index in range(1,len(list_gamma)+1)])\n",
    "maxcosd_mean_regret = np.array([np.mean(cum_losses[:,gamma_index,-1]-cum_losses[:,0,-1]) for gamma_index in range(1*len(list_gamma)+1,2*len(list_gamma)+1)])\n",
    "\n",
    "plt.figure(figsize=(4.16,2.91))\n",
    "plt.semilogx(list_gamma,ddm_mean_regret, color=\"red\", label=\"DDM\",linestyle=\"--\")\n",
    "plt.semilogx(list_gamma,maxcosd_mean_regret, color=\"blue\", label=\"MaxCOSD\")\n",
    "\n",
    "plt.ticklabel_format(axis='y', style='sci', scilimits=(0,0))\n",
    "plt.xlabel(r\"$\\gamma$\")\n",
    "plt.legend(loc=\"lower left\")\n",
    "\n",
    "plt.tight_layout()\n",
    "plt.savefig(\"images/setting_3_gamma_logx.png\", dpi=300)\n",
    "plt.show()"
   ]
  },
  {
   "cell_type": "markdown",
   "metadata": {},
   "source": [
    "#### $R_T$ as a function of $\\gamma$ in loglog scale"
   ]
  },
  {
   "cell_type": "code",
   "execution_count": 11,
   "metadata": {},
   "outputs": [
    {
     "data": {
      "image/png": "[encoded data removed]",
      "text/plain": [
       "<Figure size 299.52x209.52 with 1 Axes>"
      ]
     },
     "metadata": {
      "needs_background": "light"
     },
     "output_type": "display_data"
    }
   ],
   "source": [
    "ddm_mean_regret = np.array([np.mean(cum_losses[:,gamma_index,-1]-cum_losses[:,0,-1]) for gamma_index in range(1,len(list_gamma)+1)])\n",
    "maxcosd_mean_regret = np.array([np.mean(cum_losses[:,gamma_index,-1]-cum_losses[:,0,-1]) for gamma_index in range(1*len(list_gamma)+1,2*len(list_gamma)+1)])\n",
    "\n",
    "plt.figure(figsize=(4.16,2.91))\n",
    "plt.loglog(list_gamma,ddm_mean_regret, color=\"red\", label=\"DDM\",linestyle=\"--\")\n",
    "plt.loglog(list_gamma,maxcosd_mean_regret, color=\"blue\", label=\"MaxCOSD\")\n",
    "\n",
    "plt.xlabel(r\"$\\gamma$\")\n",
    "plt.legend(loc=\"lower left\")\n",
    "\n",
    "plt.tight_layout()\n",
    "plt.savefig(\"images/setting_3_gamma_loglog.png\", dpi=300)\n",
    "plt.show()"
   ]
  },
  {
   "cell_type": "markdown",
   "metadata": {},
   "source": [
    "#### $R_T/T$ as a function of $T$ in loglog scale"
   ]
  },
  {
   "cell_type": "code",
   "execution_count": 12,
   "metadata": {},
   "outputs": [
    {
     "data": {
      "image/png": "[encoded data removed]",
      "text/plain": [
       "<Figure size 360x252 with 1 Axes>"
      ]
     },
     "metadata": {
      "needs_background": "light"
     },
     "output_type": "display_data"
    }
   ],
   "source": [
    "ddm_gamma_index_opt = np.argmin(np.mean(cum_losses[:,1:len(list_gamma)+1,-1],axis=0))+1\n",
    "maxcosd_gamma_index_opt = np.argmin(np.mean(cum_losses[:,1*len(list_gamma)+1:2*len(list_gamma)+1,-1],axis=0))+1*len(list_gamma)+1\n",
    "colors = {ddm_gamma_index_opt:\"red\", maxcosd_gamma_index_opt:\"blue\"}\n",
    "linestyles = {ddm_gamma_index_opt:\"--\", maxcosd_gamma_index_opt:\"-\"}\n",
    "\n",
    "plt.figure(figsize=(5,3.5))\n",
    "\n",
    "for i in [ddm_gamma_index_opt, maxcosd_gamma_index_opt] :\n",
    "    y = np.mean(cum_losses[:,i,:]-cum_losses[:,0,:],axis=0)\n",
    "    plt.loglog(horizons, y/horizons,label=algs[i-1], color=colors[i], linestyle=linestyles[i])\n",
    "plt.loglog(horizons,3*10**4/np.sqrt(horizons),\"-.\",color=\"k\",label=r\"$\\Theta(1/\\sqrt{T})$\")\n",
    "\n",
    "plt.xlabel(\"Horizon (T)\")\n",
    "plt.legend(loc=\"lower left\")\n",
    "plt.tight_layout()\n",
    "plt.savefig(\"images/setting_3_avgregret.png\", dpi=300)\n",
    "plt.show()"
   ]
  }
 ],
 "metadata": {
  "kernelspec": {
   "display_name": "Python 3.8.5 ('.env': venv)",
   "language": "python",
   "name": "python3"
  },
  "language_info": {
   "codemirror_mode": {
    "name": "ipython",
    "version": 3
   },
   "file_extension": ".py",
   "mimetype": "text/x-python",
   "name": "python",
   "nbconvert_exporter": "python",
   "pygments_lexer": "ipython3",
   "version": "3.8.5"
  },
  "orig_nbformat": 4,
  "vscode": {
   "interpreter": {
    "hash": "7101c6642c440e6418ba237b307f68332c965afb71baf456fe96b8b541e130eb"
   }
  }
 },
 "nbformat": 4,
 "nbformat_minor": 2
}
