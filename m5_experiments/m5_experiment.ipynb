{
 "cells": [
  {
   "cell_type": "code",
   "execution_count": 1,
   "metadata": {},
   "outputs": [
    {
     "name": "stdout",
     "output_type": "stream",
     "text": [
      "/Users/massil/repos/newsvendor_tester\n"
     ]
    }
   ],
   "source": [
    "%load_ext autoreload\n",
    "%autoreload 2\n",
    "%cd .."
   ]
  },
  {
   "cell_type": "code",
   "execution_count": 2,
   "metadata": {},
   "outputs": [],
   "source": [
    "import pandas as pd\n",
    "import matplotlib.pyplot as plt\n",
    "import numpy as np\n",
    "\n",
    "from environment import *\n",
    "from algorithms.ddm import DDM_algorithm\n",
    "from algorithms.maxcosd_volume_constrained import MaxCOSD_Volume_Constrained_algorithm\n",
    "from simulator import Simulator"
   ]
  },
  {
   "cell_type": "code",
   "execution_count": 12,
   "metadata": {},
   "outputs": [],
   "source": [
    "m5_demands = pd.read_csv(\"m5_experiments/m5_demands.csv\")\n",
    "samples_list = m5_demands.sample_id.unique()\n",
    "nb_samples = len(samples_list)\n",
    "horizon = m5_demands.period.max()\n",
    "nb_products = len(m5_demands.product_id.unique())\n",
    "\n",
    "costs_df = pd.read_csv(\"m5_experiments/m5_costs.csv\")\n",
    "holding_costs = costs_df[\"holding_cost\"].values\n",
    "penalty_costs = costs_df[\"penalty_cost\"].values\n",
    "\n",
    "envs = []\n",
    "for sample_id in samples_list :\n",
    "    demands = (m5_demands\n",
    "        .loc[m5_demands.sample_id == sample_id, \"quantity\"]\n",
    "        .values\n",
    "        .reshape(horizon+1,nb_products)\n",
    "    )\n",
    "    envs.append(Environment_NonPerishable_Newsvendor(demands, holding_costs, penalty_costs))"
   ]
  },
  {
   "cell_type": "code",
   "execution_count": 13,
   "metadata": {},
   "outputs": [
    {
     "data": {
      "text/plain": [
       "[<matplotlib.lines.Line2D at 0x7fa631473d60>]"
      ]
     },
     "execution_count": 13,
     "metadata": {},
     "output_type": "execute_result"
    },
    {
     "data": {
      "image/png": "[encoded data removed]",
      "text/plain": [
       "<Figure size 432x288 with 1 Axes>"
      ]
     },
     "metadata": {
      "needs_background": "light"
     },
     "output_type": "display_data"
    }
   ],
   "source": [
    "plt.plot(envs[0].demands[1:,0])"
   ]
  },
  {
   "attachments": {},
   "cell_type": "markdown",
   "metadata": {},
   "source": [
    "Optimal stationary base-stock policy in hindsight"
   ]
  },
  {
   "cell_type": "code",
   "execution_count": 5,
   "metadata": {},
   "outputs": [
    {
     "name": "stdout",
     "output_type": "stream",
     "text": [
      "Product 0: critical ratio 0.9950248756218905, critical quantile 70.41791044776073\n",
      "Product 1: critical ratio 0.9950248753166183, critical quantile 135.41790924620955\n",
      "Product 2: critical ratio 0.9950248756218905, critical quantile 111.0\n",
      "Product 3: critical ratio 0.9950248750400918, critical quantile 62.0\n",
      "Product 4: critical ratio 0.9950248756218905, critical quantile 33.208955223880366\n",
      "Product 5: critical ratio 0.9950248756218905, critical quantile 23.0\n",
      "Product 6: critical ratio 0.9950248750400918, critical quantile 36.0\n",
      "Product 7: critical ratio 0.9950248750400918, critical quantile 40.0\n",
      "Product 8: critical ratio 0.9950248750400918, critical quantile 121.0\n",
      "Product 9: critical ratio 0.9950248756218905, critical quantile 45.0\n",
      "Product 10: critical ratio 0.9950248756218905, critical quantile 100.20895522388037\n",
      "Product 11: critical ratio 0.9950248756218905, critical quantile 80.0\n",
      "Product 12: critical ratio 0.995024875525568, critical quantile 46.208955034317796\n",
      "Product 13: critical ratio 0.9950248755203468, critical quantile 85.20895502404255\n",
      "Product 14: critical ratio 0.9950248754292028, critical quantile 93.2089548446711\n",
      "Product 15: critical ratio 0.9950248756218905, critical quantile 46.0\n",
      "Product 16: critical ratio 0.9950248756218905, critical quantile 35.0\n",
      "Product 17: critical ratio 0.9950248753166183, critical quantile 98.62686386931432\n",
      "Product 18: critical ratio 0.9950248750400918, critical quantile 21.0\n",
      "Product 19: critical ratio 0.9950248753166183, critical quantile 102.41790924620955\n",
      "Product 20: critical ratio 0.9950248753166183, critical quantile 117.41790924620955\n",
      "Product 21: critical ratio 0.9950248752363445, critical quantile 97.208954465126\n",
      "Product 22: critical ratio 0.9950248756218905, critical quantile 100.20895522388037\n",
      "Product 23: critical ratio 0.9950248754183283, critical quantile 80.20895482327\n",
      "Product 24: critical ratio 0.9950248752363445, critical quantile 87.208954465126\n",
      "Product 25: critical ratio 0.9950248756218906, critical quantile 31.0\n",
      "Product 26: critical ratio 0.9950248756218905, critical quantile 34.0\n",
      "Product 27: critical ratio 0.9950248752363445, critical quantile 31.0\n",
      "Product 28: critical ratio 0.9950248754292028, critical quantile 31.0\n",
      "Product 29: critical ratio 0.9950248756218906, critical quantile 78.0\n",
      "Product 30: critical ratio 0.9950248756218905, critical quantile 42.0\n",
      "Product 31: critical ratio 0.9950248752363445, critical quantile 23.0\n",
      "Product 32: critical ratio 0.9950248756218905, critical quantile 163.41791044776073\n",
      "Product 33: critical ratio 0.9950248756218905, critical quantile 44.0\n",
      "Product 34: critical ratio 0.9950248756218906, critical quantile 64.0\n",
      "Product 35: critical ratio 0.9950248754292028, critical quantile 31.0\n",
      "Product 36: critical ratio 0.9950248753166183, critical quantile 62.41790924620955\n",
      "Product 37: critical ratio 0.9950248756218905, critical quantile 196.6268656716411\n",
      "Product 38: critical ratio 0.9950248756218905, critical quantile 41.0\n",
      "Product 39: critical ratio 0.9950248750400918, critical quantile 33.20895407890066\n",
      "Product 40: critical ratio 0.9950248754183283, critical quantile 84.0\n",
      "Product 41: critical ratio 0.9950248756218906, critical quantile 55.0\n",
      "Product 42: critical ratio 0.9950248754292028, critical quantile 38.2089548446711\n",
      "Product 43: critical ratio 0.9950248754268275, critical quantile 77.0\n",
      "Product 44: critical ratio 0.9950248754292028, critical quantile 37.2089548446711\n",
      "Sum of critical quantiles: 3064.2686455177527\n"
     ]
    }
   ],
   "source": [
    "quantile_sum = 0\n",
    "for i in range(NB_PRODUCTS) :\n",
    "    quantile = np.quantile(demands[1:,i], penalty_costs[i]/(holding_costs[i]+penalty_costs[i]))\n",
    "    quantile_sum += quantile\n",
    "    print(\"Product {}: critical ratio {}, critical quantile {}\".format(i,\n",
    "        penalty_costs[i]/(holding_costs[i]+penalty_costs[i]),\n",
    "        quantile\n",
    "    ))\n",
    "print(\"Sum of critical quantiles: {}\".format(quantile_sum))"
   ]
  },
  {
   "cell_type": "code",
   "execution_count": 6,
   "metadata": {},
   "outputs": [],
   "source": [
    "volumes = np.ones(NB_PRODUCTS)\n",
    "total_volume = 3500\n",
    "diameter = total_volume*np.sqrt(1/(np.sort(volumes)[0]**2)+1/(np.sort(volumes)[1]**2))\n",
    "G = np.sqrt(NB_PRODUCTS)*np.max(np.maximum(holding_costs,penalty_costs))"
   ]
  },
  {
   "cell_type": "code",
   "execution_count": 7,
   "metadata": {},
   "outputs": [],
   "source": [
    "initial_decision = np.zeros(NB_PRODUCTS)\n",
    "list_gamma = [10**exponent for exponent in np.linspace(-5,1,9*7+1)]\n",
    "\n",
    "algs = [ DDM_algorithm(initial_decision,volumes,total_volume, gamma_value,G,holding_costs,penalty_costs) for gamma_value in list_gamma]\n",
    "algs += [ MaxCOSD_Volume_Constrained_algorithm(initial_decision,volumes, total_volume, gamma_value) for gamma_value in list_gamma] \n",
    "\n",
    "nb_algs = len(algs)"
   ]
  },
  {
   "cell_type": "code",
   "execution_count": 8,
   "metadata": {},
   "outputs": [
    {
     "name": "stderr",
     "output_type": "stream",
     "text": [
      "100%|██████████| 1/1 [00:31<00:00, 31.28s/it]\n"
     ]
    }
   ],
   "source": [
    "horizons = np.linspace(10,horizon,100).astype(int)\n",
    "\n",
    "sim = Simulator(env_generator, NB_PRODUCTS, 1, horizons, algs,\n",
    "   lambda optimum : np.sum(volumes*optimum)<=total_volume, holding_costs, penalty_costs)\n",
    "cum_losses = sim.run()"
   ]
  },
  {
   "cell_type": "code",
   "execution_count": 15,
   "metadata": {},
   "outputs": [
    {
     "data": {
      "image/png": "[encoded data removed]",
      "text/plain": [
       "<Figure size 432x252 with 1 Axes>"
      ]
     },
     "metadata": {
      "needs_background": "light"
     },
     "output_type": "display_data"
    }
   ],
   "source": [
    "ddm_mean_regret = np.array([np.mean(cum_losses[:,gamma_index,-1]-cum_losses[:,0,-1]) for gamma_index in range(1,len(list_gamma)+1)])\n",
    "ddm_std_regret = np.array([np.std(cum_losses[:,gamma_index,-1]-cum_losses[:,0,-1]) for gamma_index in range(1,len(list_gamma)+1)])\n",
    "\n",
    "cosd_mean_cum_losses = np.array([np.mean(cum_losses[:,gamma_index,-1]-cum_losses[:,0,-1]) for gamma_index in range(1*len(list_gamma)+1,2*len(list_gamma)+1)])\n",
    "cosd_std_cum_losses = np.array([np.std(cum_losses[:,gamma_index,-1]-cum_losses[:,0,-1]) for gamma_index in range(1*len(list_gamma)+1,2*len(list_gamma)+1)])\n",
    "\n",
    "\n",
    "plt.figure(figsize=(6,3.5))\n",
    "\n",
    "plt.loglog(list_gamma,ddm_mean_regret, color=\"red\", label=\"DDM\", linestyle=\"--\")\n",
    "plt.fill_between(list_gamma, ddm_mean_regret-ddm_std_regret,ddm_mean_regret+ddm_std_regret, color=\"red\", alpha=0.3)\n",
    "\n",
    "plt.loglog(list_gamma,cosd_mean_cum_losses, color=\"blue\", label=\"MaxCOSD\")\n",
    "plt.fill_between(list_gamma, cosd_mean_cum_losses-cosd_std_cum_losses,cosd_mean_cum_losses+cosd_std_cum_losses, color=\"blue\", alpha=0.3)\n",
    "\n",
    "#plt.axvline(gamma,linestyle=\"--\",color=\"black\")\n",
    "plt.xlabel(r\"$\\gamma$\")\n",
    "plt.ylabel(\"Regret\")\n",
    "plt.legend(loc=\"lower left\")\n",
    "#plt.ticklabel_format(axis='y', style='sci', scilimits=(0,0))\n",
    "plt.tight_layout()\n",
    "plt.savefig(\"images/m5_gamma_1.png\", dpi=300)\n",
    "plt.show()"
   ]
  },
  {
   "cell_type": "code",
   "execution_count": 22,
   "metadata": {},
   "outputs": [
    {
     "data": {
      "image/png": "[encoded data removed]",
      "text/plain": [
       "<Figure size 432x252 with 1 Axes>"
      ]
     },
     "metadata": {
      "needs_background": "light"
     },
     "output_type": "display_data"
    }
   ],
   "source": [
    "ddm_gamma_index_opt = np.argmin(cum_losses[0,1:len(list_gamma)+1,-1])+1\n",
    "cosd_gamma_index_opt = np.argmin(cum_losses[0,1*len(list_gamma)+1:2*len(list_gamma)+1,-1])+1*len(list_gamma)+1\n",
    "colors = {ddm_gamma_index_opt:\"red\", cosd_gamma_index_opt:\"blue\"}\n",
    "linestyles = {ddm_gamma_index_opt:\"--\", cosd_gamma_index_opt:\"-\"}\n",
    "\n",
    "plt.figure(figsize=(6,3.5))\n",
    "\n",
    "for i in [ddm_gamma_index_opt, cosd_gamma_index_opt] :\n",
    "    y = np.mean(cum_losses[:,i,:]-cum_losses[:,0,:],axis=0)\n",
    "    plt.loglog(horizons, y/horizons,label=algs[i-1], color=colors[i], linestyle=linestyles[i])\n",
    "#plt.axhline(0,color=\"k\")\n",
    "#plt.plot(horizons,np.sqrt(horizons)*D/2*np.sqrt(2/np.pi),\"--\",color=\"k\",label=\"theoretical equivalent\")\n",
    "#plt.plot(horizons,np.sqrt(horizons)*D/(4*np.sqrt(2)),\"x\",color=\"k\",label=\"theoretical lower bound\")\n",
    "plt.loglog(horizons,10**3.7/np.sqrt(horizons),\"--\",color=\"k\",label=r\"$\\Theta(1/\\sqrt{T})$\")\n",
    "plt.ylabel(\"Average regret\")\n",
    "plt.xlabel(\"Horizon (T)\")\n",
    "plt.legend(loc=\"lower left\")\n",
    "#plt.ticklabel_format(axis='y', style='sci', scilimits=(0,0))\n",
    "plt.tight_layout()\n",
    "plt.savefig(\"images/m5_avgregret_1.png\", dpi=300)\n",
    "plt.show()"
   ]
  }
 ],
 "metadata": {
  "kernelspec": {
   "display_name": "Python 3.8.5 ('.env': venv)",
   "language": "python",
   "name": "python3"
  },
  "language_info": {
   "codemirror_mode": {
    "name": "ipython",
    "version": 3
   },
   "file_extension": ".py",
   "mimetype": "text/x-python",
   "name": "python",
   "nbconvert_exporter": "python",
   "pygments_lexer": "ipython3",
   "version": "3.8.5"
  },
  "orig_nbformat": 4,
  "vscode": {
   "interpreter": {
    "hash": "7101c6642c440e6418ba237b307f68332c965afb71baf456fe96b8b541e130eb"
   }
  }
 },
 "nbformat": 4,
 "nbformat_minor": 2
}
