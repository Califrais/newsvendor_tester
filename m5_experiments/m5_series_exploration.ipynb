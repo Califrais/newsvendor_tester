{
 "cells": [
  {
   "attachments": {},
   "cell_type": "markdown",
   "metadata": {},
   "source": [
    "# M5 Series Exploration\n",
    "In this notebook we explore the M5 dataset in order to identify which products to use in our experiments"
   ]
  },
  {
   "cell_type": "code",
   "execution_count": 1,
   "metadata": {},
   "outputs": [],
   "source": [
    "import pandas as pd\n",
    "import numpy as np\n",
    "from datasetsforecast.m5 import M5\n",
    "\n",
    "M5_DIRECTORY_PATH = \"data\""
   ]
  },
  {
   "cell_type": "markdown",
   "metadata": {},
   "source": [
    "### Loading the whole M5 dataset"
   ]
  },
  {
   "cell_type": "code",
   "execution_count": 2,
   "metadata": {},
   "outputs": [
    {
     "data": {
      "text/html": [
       "<div>\n",
       "<style scoped>\n",
       "    .dataframe tbody tr th:only-of-type {\n",
       "        vertical-align: middle;\n",
       "    }\n",
       "\n",
       "    .dataframe tbody tr th {\n",
       "        vertical-align: top;\n",
       "    }\n",
       "\n",
       "    .dataframe thead th {\n",
       "        text-align: right;\n",
       "    }\n",
       "</style>\n",
       "<table border=\"1\" class=\"dataframe\">\n",
       "  <thead>\n",
       "    <tr style=\"text-align: right;\">\n",
       "      <th></th>\n",
       "      <th>unique_id</th>\n",
       "      <th>ds</th>\n",
       "      <th>y</th>\n",
       "    </tr>\n",
       "  </thead>\n",
       "  <tbody>\n",
       "    <tr>\n",
       "      <th>0</th>\n",
       "      <td>FOODS_1_001_CA_1</td>\n",
       "      <td>2011-01-29</td>\n",
       "      <td>3.0</td>\n",
       "    </tr>\n",
       "    <tr>\n",
       "      <th>1</th>\n",
       "      <td>FOODS_1_001_CA_1</td>\n",
       "      <td>2011-01-30</td>\n",
       "      <td>0.0</td>\n",
       "    </tr>\n",
       "    <tr>\n",
       "      <th>2</th>\n",
       "      <td>FOODS_1_001_CA_1</td>\n",
       "      <td>2011-01-31</td>\n",
       "      <td>0.0</td>\n",
       "    </tr>\n",
       "    <tr>\n",
       "      <th>3</th>\n",
       "      <td>FOODS_1_001_CA_1</td>\n",
       "      <td>2011-02-01</td>\n",
       "      <td>1.0</td>\n",
       "    </tr>\n",
       "    <tr>\n",
       "      <th>4</th>\n",
       "      <td>FOODS_1_001_CA_1</td>\n",
       "      <td>2011-02-02</td>\n",
       "      <td>4.0</td>\n",
       "    </tr>\n",
       "    <tr>\n",
       "      <th>...</th>\n",
       "      <td>...</td>\n",
       "      <td>...</td>\n",
       "      <td>...</td>\n",
       "    </tr>\n",
       "    <tr>\n",
       "      <th>47735392</th>\n",
       "      <td>HOUSEHOLD_2_516_WI_3</td>\n",
       "      <td>2016-06-15</td>\n",
       "      <td>0.0</td>\n",
       "    </tr>\n",
       "    <tr>\n",
       "      <th>47735393</th>\n",
       "      <td>HOUSEHOLD_2_516_WI_3</td>\n",
       "      <td>2016-06-16</td>\n",
       "      <td>1.0</td>\n",
       "    </tr>\n",
       "    <tr>\n",
       "      <th>47735394</th>\n",
       "      <td>HOUSEHOLD_2_516_WI_3</td>\n",
       "      <td>2016-06-17</td>\n",
       "      <td>0.0</td>\n",
       "    </tr>\n",
       "    <tr>\n",
       "      <th>47735395</th>\n",
       "      <td>HOUSEHOLD_2_516_WI_3</td>\n",
       "      <td>2016-06-18</td>\n",
       "      <td>0.0</td>\n",
       "    </tr>\n",
       "    <tr>\n",
       "      <th>47735396</th>\n",
       "      <td>HOUSEHOLD_2_516_WI_3</td>\n",
       "      <td>2016-06-19</td>\n",
       "      <td>0.0</td>\n",
       "    </tr>\n",
       "  </tbody>\n",
       "</table>\n",
       "<p>47649940 rows × 3 columns</p>\n",
       "</div>"
      ],
      "text/plain": [
       "                     unique_id         ds    y\n",
       "0             FOODS_1_001_CA_1 2011-01-29  3.0\n",
       "1             FOODS_1_001_CA_1 2011-01-30  0.0\n",
       "2             FOODS_1_001_CA_1 2011-01-31  0.0\n",
       "3             FOODS_1_001_CA_1 2011-02-01  1.0\n",
       "4             FOODS_1_001_CA_1 2011-02-02  4.0\n",
       "...                        ...        ...  ...\n",
       "47735392  HOUSEHOLD_2_516_WI_3 2016-06-15  0.0\n",
       "47735393  HOUSEHOLD_2_516_WI_3 2016-06-16  1.0\n",
       "47735394  HOUSEHOLD_2_516_WI_3 2016-06-17  0.0\n",
       "47735395  HOUSEHOLD_2_516_WI_3 2016-06-18  0.0\n",
       "47735396  HOUSEHOLD_2_516_WI_3 2016-06-19  0.0\n",
       "\n",
       "[47649940 rows x 3 columns]"
      ]
     },
     "execution_count": 2,
     "metadata": {},
     "output_type": "execute_result"
    }
   ],
   "source": [
    "Y_df, X_df, S_df = M5.load(M5_DIRECTORY_PATH, cache=False)\n",
    "Y_df"
   ]
  },
  {
   "attachments": {},
   "cell_type": "markdown",
   "metadata": {},
   "source": [
    "### Filling the missing raws of the dataset with zeros"
   ]
  },
  {
   "cell_type": "markdown",
   "metadata": {},
   "source": [
    "(this may take some time)"
   ]
  },
  {
   "cell_type": "code",
   "execution_count": 17,
   "metadata": {},
   "outputs": [],
   "source": [
    "date_range = pd.date_range(Y_df.ds.min(),Y_df.ds.max())\n",
    "unique_ids = Y_df.unique_id.unique()\n",
    "extended_df = (\n",
    "    Y_df.set_index([\"unique_id\",\"ds\"])\n",
    "    .reindex(pd.MultiIndex.from_product([unique_ids,date_range],names=[\"unique_id\", \"ds\"]), fill_value=0.0)\n",
    "    .reset_index()\n",
    ")"
   ]
  },
  {
   "cell_type": "code",
   "execution_count": 27,
   "metadata": {},
   "outputs": [
    {
     "data": {
      "text/html": [
       "<div>\n",
       "<style scoped>\n",
       "    .dataframe tbody tr th:only-of-type {\n",
       "        vertical-align: middle;\n",
       "    }\n",
       "\n",
       "    .dataframe tbody tr th {\n",
       "        vertical-align: top;\n",
       "    }\n",
       "\n",
       "    .dataframe thead th {\n",
       "        text-align: right;\n",
       "    }\n",
       "</style>\n",
       "<table border=\"1\" class=\"dataframe\">\n",
       "  <thead>\n",
       "    <tr style=\"text-align: right;\">\n",
       "      <th></th>\n",
       "      <th>unique_id</th>\n",
       "      <th>ds</th>\n",
       "      <th>y</th>\n",
       "    </tr>\n",
       "  </thead>\n",
       "  <tbody>\n",
       "    <tr>\n",
       "      <th>0</th>\n",
       "      <td>FOODS_1_001_CA_1</td>\n",
       "      <td>2011-01-29</td>\n",
       "      <td>3.0</td>\n",
       "    </tr>\n",
       "    <tr>\n",
       "      <th>1</th>\n",
       "      <td>FOODS_1_001_CA_1</td>\n",
       "      <td>2011-01-30</td>\n",
       "      <td>0.0</td>\n",
       "    </tr>\n",
       "    <tr>\n",
       "      <th>2</th>\n",
       "      <td>FOODS_1_001_CA_1</td>\n",
       "      <td>2011-01-31</td>\n",
       "      <td>0.0</td>\n",
       "    </tr>\n",
       "    <tr>\n",
       "      <th>3</th>\n",
       "      <td>FOODS_1_001_CA_1</td>\n",
       "      <td>2011-02-01</td>\n",
       "      <td>1.0</td>\n",
       "    </tr>\n",
       "    <tr>\n",
       "      <th>4</th>\n",
       "      <td>FOODS_1_001_CA_1</td>\n",
       "      <td>2011-02-02</td>\n",
       "      <td>4.0</td>\n",
       "    </tr>\n",
       "    <tr>\n",
       "      <th>...</th>\n",
       "      <td>...</td>\n",
       "      <td>...</td>\n",
       "      <td>...</td>\n",
       "    </tr>\n",
       "    <tr>\n",
       "      <th>60034805</th>\n",
       "      <td>HOUSEHOLD_2_516_WI_3</td>\n",
       "      <td>2016-06-15</td>\n",
       "      <td>0.0</td>\n",
       "    </tr>\n",
       "    <tr>\n",
       "      <th>60034806</th>\n",
       "      <td>HOUSEHOLD_2_516_WI_3</td>\n",
       "      <td>2016-06-16</td>\n",
       "      <td>1.0</td>\n",
       "    </tr>\n",
       "    <tr>\n",
       "      <th>60034807</th>\n",
       "      <td>HOUSEHOLD_2_516_WI_3</td>\n",
       "      <td>2016-06-17</td>\n",
       "      <td>0.0</td>\n",
       "    </tr>\n",
       "    <tr>\n",
       "      <th>60034808</th>\n",
       "      <td>HOUSEHOLD_2_516_WI_3</td>\n",
       "      <td>2016-06-18</td>\n",
       "      <td>0.0</td>\n",
       "    </tr>\n",
       "    <tr>\n",
       "      <th>60034809</th>\n",
       "      <td>HOUSEHOLD_2_516_WI_3</td>\n",
       "      <td>2016-06-19</td>\n",
       "      <td>0.0</td>\n",
       "    </tr>\n",
       "  </tbody>\n",
       "</table>\n",
       "<p>60034810 rows × 3 columns</p>\n",
       "</div>"
      ],
      "text/plain": [
       "                     unique_id         ds    y\n",
       "0             FOODS_1_001_CA_1 2011-01-29  3.0\n",
       "1             FOODS_1_001_CA_1 2011-01-30  0.0\n",
       "2             FOODS_1_001_CA_1 2011-01-31  0.0\n",
       "3             FOODS_1_001_CA_1 2011-02-01  1.0\n",
       "4             FOODS_1_001_CA_1 2011-02-02  4.0\n",
       "...                        ...        ...  ...\n",
       "60034805  HOUSEHOLD_2_516_WI_3 2016-06-15  0.0\n",
       "60034806  HOUSEHOLD_2_516_WI_3 2016-06-16  1.0\n",
       "60034807  HOUSEHOLD_2_516_WI_3 2016-06-17  0.0\n",
       "60034808  HOUSEHOLD_2_516_WI_3 2016-06-18  0.0\n",
       "60034809  HOUSEHOLD_2_516_WI_3 2016-06-19  0.0\n",
       "\n",
       "[60034810 rows x 3 columns]"
      ]
     },
     "execution_count": 27,
     "metadata": {},
     "output_type": "execute_result"
    }
   ],
   "source": [
    "extended_df"
   ]
  },
  {
   "cell_type": "code",
   "execution_count": 39,
   "metadata": {},
   "outputs": [
    {
     "data": {
      "text/plain": [
       "<AxesSubplot:>"
      ]
     },
     "execution_count": 39,
     "metadata": {},
     "output_type": "execute_result"
    },
    {
     "data": {
      "image/png": "[encoded data removed]",
      "text/plain": [
       "<Figure size 432x288 with 1 Axes>"
      ]
     },
     "metadata": {
      "needs_background": "light"
     },
     "output_type": "display_data"
    }
   ],
   "source": [
    "( extended_df\n",
    "    .merge(S_df, on=\"unique_id\")\n",
    "    .groupby(\"item_id\")\n",
    "    [\"y\"]\n",
    "    .aggregate(lambda x: (x>0).mean())\n",
    "    .hist(bins=100)\n",
    ")"
   ]
  },
  {
   "cell_type": "code",
   "execution_count": 45,
   "metadata": {},
   "outputs": [
    {
     "data": {
      "text/plain": [
       "item_id\n",
       "FOODS_3_586    0.995531\n",
       "FOODS_3_694    0.993448\n",
       "FOODS_3_080    0.992788\n",
       "FOODS_3_555    0.991874\n",
       "FOODS_3_714    0.991468\n",
       "FOODS_3_252    0.987405\n",
       "FOODS_3_226    0.984561\n",
       "FOODS_3_377    0.973997\n",
       "FOODS_3_668    0.970747\n",
       "FOODS_3_228    0.969731\n",
       "Name: y, dtype: float64"
      ]
     },
     "execution_count": 45,
     "metadata": {},
     "output_type": "execute_result"
    }
   ],
   "source": [
    "top10_products = ( extended_df\n",
    "    .merge(S_df, on=\"unique_id\")\n",
    "    .groupby(\"item_id\")\n",
    "    [\"y\"]\n",
    "    .aggregate(lambda x: (x>0).mean())\n",
    "    .sort_values()\n",
    "    .loc[::-1]\n",
    "    .head(10)\n",
    ")\n",
    "top10_products"
   ]
  },
  {
   "cell_type": "code",
   "execution_count": 49,
   "metadata": {},
   "outputs": [
    {
     "data": {
      "text/plain": [
       "CategoricalIndex(['FOODS_3_586', 'FOODS_3_694', 'FOODS_3_080', 'FOODS_3_555',\n",
       "                  'FOODS_3_714', 'FOODS_3_252', 'FOODS_3_226', 'FOODS_3_377',\n",
       "                  'FOODS_3_668', 'FOODS_3_228'],\n",
       "                 categories=['HOBBIES_1_001', 'HOBBIES_1_002', 'HOBBIES_1_003', 'HOBBIES_1_004', 'HOBBIES_1_005', 'HOBBIES_1_006', 'HOBBIES_1_007', 'HOBBIES_1_008', ...], ordered=False, dtype='category', name='item_id')"
      ]
     },
     "execution_count": 49,
     "metadata": {},
     "output_type": "execute_result"
    }
   ],
   "source": [
    "top10_products.index"
   ]
  },
  {
   "cell_type": "code",
   "execution_count": 51,
   "metadata": {},
   "outputs": [
    {
     "data": {
      "text/plain": [
       "['CA_1', 'CA_2', 'CA_3', 'CA_4', 'TX_1', 'TX_2', 'TX_3', 'WI_1', 'WI_2', 'WI_3']\n",
       "Categories (10, object): ['CA_1', 'CA_2', 'CA_3', 'CA_4', ..., 'TX_3', 'WI_1', 'WI_2', 'WI_3']"
      ]
     },
     "execution_count": 51,
     "metadata": {},
     "output_type": "execute_result"
    }
   ],
   "source": [
    "store_list = S_df.store_id.unique()\n",
    "store_list"
   ]
  },
  {
   "cell_type": "code",
   "execution_count": 48,
   "metadata": {},
   "outputs": [
    {
     "name": "stdout",
     "output_type": "stream",
     "text": [
      "FOODS_3_586_CA_1\n",
      "FOODS_3_694_CA_1\n",
      "FOODS_3_080_CA_1\n",
      "FOODS_3_555_CA_1\n",
      "FOODS_3_714_CA_1\n",
      "FOODS_3_252_CA_1\n",
      "FOODS_3_226_CA_1\n",
      "FOODS_3_377_CA_1\n",
      "FOODS_3_668_CA_1\n",
      "FOODS_3_228_CA_1\n",
      "FOODS_3_586_CA_2\n",
      "FOODS_3_694_CA_2\n",
      "FOODS_3_080_CA_2\n",
      "FOODS_3_555_CA_2\n",
      "FOODS_3_714_CA_2\n",
      "FOODS_3_252_CA_2\n",
      "FOODS_3_226_CA_2\n",
      "FOODS_3_377_CA_2\n",
      "FOODS_3_668_CA_2\n",
      "FOODS_3_228_CA_2\n",
      "FOODS_3_586_CA_3\n",
      "FOODS_3_694_CA_3\n",
      "FOODS_3_080_CA_3\n",
      "FOODS_3_555_CA_3\n",
      "FOODS_3_714_CA_3\n",
      "FOODS_3_252_CA_3\n",
      "FOODS_3_226_CA_3\n",
      "FOODS_3_377_CA_3\n",
      "FOODS_3_668_CA_3\n",
      "FOODS_3_228_CA_3\n",
      "FOODS_3_586_CA_4\n",
      "FOODS_3_694_CA_4\n",
      "FOODS_3_080_CA_4\n",
      "FOODS_3_555_CA_4\n",
      "FOODS_3_714_CA_4\n",
      "FOODS_3_252_CA_4\n",
      "FOODS_3_226_CA_4\n",
      "FOODS_3_377_CA_4\n",
      "FOODS_3_668_CA_4\n",
      "FOODS_3_228_CA_4\n",
      "FOODS_3_586_TX_1\n",
      "FOODS_3_694_TX_1\n",
      "FOODS_3_080_TX_1\n",
      "FOODS_3_555_TX_1\n",
      "FOODS_3_714_TX_1\n",
      "FOODS_3_252_TX_1\n",
      "FOODS_3_226_TX_1\n",
      "FOODS_3_377_TX_1\n",
      "FOODS_3_668_TX_1\n",
      "FOODS_3_228_TX_1\n",
      "FOODS_3_586_TX_2\n",
      "FOODS_3_694_TX_2\n",
      "FOODS_3_080_TX_2\n",
      "FOODS_3_555_TX_2\n",
      "FOODS_3_714_TX_2\n",
      "FOODS_3_252_TX_2\n",
      "FOODS_3_226_TX_2\n",
      "FOODS_3_377_TX_2\n",
      "FOODS_3_668_TX_2\n",
      "FOODS_3_228_TX_2\n",
      "FOODS_3_586_TX_3\n",
      "FOODS_3_694_TX_3\n",
      "FOODS_3_080_TX_3\n",
      "FOODS_3_555_TX_3\n",
      "FOODS_3_714_TX_3\n",
      "FOODS_3_252_TX_3\n",
      "FOODS_3_226_TX_3\n",
      "FOODS_3_377_TX_3\n",
      "FOODS_3_668_TX_3\n",
      "FOODS_3_228_TX_3\n",
      "FOODS_3_586_WI_1\n",
      "FOODS_3_694_WI_1\n",
      "FOODS_3_080_WI_1\n",
      "FOODS_3_555_WI_1\n",
      "FOODS_3_714_WI_1\n",
      "FOODS_3_252_WI_1\n",
      "FOODS_3_226_WI_1\n",
      "FOODS_3_377_WI_1\n",
      "FOODS_3_668_WI_1\n",
      "FOODS_3_228_WI_1\n",
      "FOODS_3_586_WI_2\n",
      "FOODS_3_694_WI_2\n",
      "FOODS_3_080_WI_2\n",
      "FOODS_3_555_WI_2\n",
      "FOODS_3_714_WI_2\n",
      "FOODS_3_252_WI_2\n",
      "FOODS_3_226_WI_2\n",
      "FOODS_3_377_WI_2\n",
      "FOODS_3_668_WI_2\n",
      "FOODS_3_228_WI_2\n",
      "FOODS_3_586_WI_3\n",
      "FOODS_3_694_WI_3\n",
      "FOODS_3_080_WI_3\n",
      "FOODS_3_555_WI_3\n",
      "FOODS_3_714_WI_3\n",
      "FOODS_3_252_WI_3\n",
      "FOODS_3_226_WI_3\n",
      "FOODS_3_377_WI_3\n",
      "FOODS_3_668_WI_3\n",
      "FOODS_3_228_WI_3\n"
     ]
    }
   ],
   "source": [
    "store_list = S_df.store_id.unique()\n",
    "for store_id in store_list :\n",
    "    for item_id in top10_products.index :\n",
    "        print(item_id+\"_\"+store_id)"
   ]
  },
  {
   "cell_type": "code",
   "execution_count": 42,
   "metadata": {},
   "outputs": [
    {
     "data": {
      "text/plain": [
       "['FOODS_3_586', 'FOODS_3_694', 'FOODS_3_080', 'FOODS_3_555', 'FOODS_3_714', 'FOODS_3_252', 'FOODS_3_226', 'FOODS_3_377', 'FOODS_3_668', 'FOODS_3_228']\n",
       "Categories (3049, object): ['HOBBIES_1_001', 'HOBBIES_1_002', 'HOBBIES_1_003', 'HOBBIES_1_004', ..., 'FOODS_3_824', 'FOODS_3_825', 'FOODS_3_826', 'FOODS_3_827']"
      ]
     },
     "execution_count": 42,
     "metadata": {},
     "output_type": "execute_result"
    }
   ],
   "source": [
    "top10_products.index.values"
   ]
  },
  {
   "attachments": {},
   "cell_type": "markdown",
   "metadata": {},
   "source": [
    "### Looking for products with low number of zero demands"
   ]
  },
  {
   "attachments": {},
   "cell_type": "markdown",
   "metadata": {},
   "source": [
    "Estimating the probability of non-zero demands $\\mu$ and extracting the products with the higher values of $\\mu$."
   ]
  },
  {
   "cell_type": "code",
   "execution_count": 11,
   "metadata": {},
   "outputs": [
    {
     "data": {
      "text/plain": [
       "<AxesSubplot:xlabel='ds'>"
      ]
     },
     "execution_count": 11,
     "metadata": {},
     "output_type": "execute_result"
    },
    {
     "data": {
      "image/png": "[encoded data removed]",
      "text/plain": [
       "<Figure size 432x288 with 1 Axes>"
      ]
     },
     "metadata": {
      "needs_background": "light"
     },
     "output_type": "display_data"
    }
   ],
   "source": [
    "Y_df.loc[Y_df.unique_id == \"FOODS_2_069_TX_3\"].set_index(\"ds\")[[\"y\"]].plot()"
   ]
  },
  {
   "cell_type": "code",
   "execution_count": 10,
   "metadata": {},
   "outputs": [
    {
     "data": {
      "text/plain": [
       "unique_id\n",
       "FOODS_2_069_TX_3        0.028068\n",
       "HOBBIES_2_055_CA_4      0.027901\n",
       "HOBBIES_1_360_CA_4      0.027593\n",
       "HOUSEHOLD_2_211_WI_2    0.027579\n",
       "HOUSEHOLD_2_429_WI_2    0.026950\n",
       "HOBBIES_1_212_TX_1      0.026626\n",
       "HOUSEHOLD_2_202_WI_3    0.026504\n",
       "HOBBIES_2_057_TX_1      0.026423\n",
       "HOBBIES_1_006_CA_4      0.026384\n",
       "HOBBIES_2_119_CA_4      0.026300\n",
       "HOBBIES_2_030_CA_4      0.026178\n",
       "HOUSEHOLD_2_147_CA_4    0.026123\n",
       "HOUSEHOLD_2_014_WI_2    0.026087\n",
       "HOUSEHOLD_2_412_WI_2    0.025915\n",
       "HOBBIES_2_110_CA_4      0.025586\n",
       "FOODS_1_079_TX_2        0.025458\n",
       "HOUSEHOLD_2_134_TX_1    0.025407\n",
       "HOUSEHOLD_2_147_WI_2    0.025394\n",
       "HOUSEHOLD_2_202_WI_2    0.024969\n",
       "HOBBIES_1_192_TX_3      0.024502\n",
       "HOBBIES_1_336_WI_1      0.024453\n",
       "HOUSEHOLD_2_456_WI_2    0.023906\n",
       "HOBBIES_2_119_WI_3      0.023697\n",
       "HOBBIES_1_052_CA_3      0.023607\n",
       "HOUSEHOLD_2_106_WI_2    0.023340\n",
       "HOBBIES_2_119_TX_1      0.023025\n",
       "HOBBIES_1_217_TX_3      0.022995\n",
       "HOBBIES_2_110_WI_2      0.022545\n",
       "HOUSEHOLD_2_161_WI_2    0.022367\n",
       "HOBBIES_1_052_CA_2      0.021335\n",
       "HOUSEHOLD_2_334_TX_2    0.021175\n",
       "HOBBIES_1_402_WI_1      0.020237\n",
       "FOODS_1_079_CA_3        0.020085\n",
       "HOBBIES_2_143_CA_4      0.018668\n",
       "HOBBIES_2_056_TX_1      0.018624\n",
       "HOUSEHOLD_2_502_WI_2    0.018568\n",
       "HOBBIES_1_212_WI_2      0.017928\n",
       "HOUSEHOLD_1_073_CA_3    0.017643\n",
       "HOUSEHOLD_2_094_CA_4    0.016958\n",
       "HOUSEHOLD_2_278_CA_4    0.016802\n",
       "HOBBIES_1_217_TX_1      0.016480\n",
       "HOBBIES_2_056_TX_3      0.015768\n",
       "FOODS_1_079_CA_2        0.013999\n",
       "HOUSEHOLD_1_336_CA_3    0.013907\n",
       "HOUSEHOLD_1_512_CA_4    0.013211\n",
       "Name: y, dtype: float64"
      ]
     },
     "execution_count": 10,
     "metadata": {},
     "output_type": "execute_result"
    }
   ],
   "source": [
    "mu_estimate = Y_df.groupby(\"unique_id\")[\"y\"].aggregate(lambda x: (x>0).mean()).sort_values()\n",
    "mu_estimate = mu_estimate.loc[::-1]\n",
    "mu_estimate.tail(45)"
   ]
  }
 ],
 "metadata": {
  "kernelspec": {
   "display_name": ".env",
   "language": "python",
   "name": "python3"
  },
  "language_info": {
   "codemirror_mode": {
    "name": "ipython",
    "version": 3
   },
   "file_extension": ".py",
   "mimetype": "text/x-python",
   "name": "python",
   "nbconvert_exporter": "python",
   "pygments_lexer": "ipython3",
   "version": "3.8.5"
  },
  "orig_nbformat": 4
 },
 "nbformat": 4,
 "nbformat_minor": 2
}
