{
 "cells": [
  {
   "attachments": {},
   "cell_type": "markdown",
   "metadata": {},
   "source": [
    "# Simulation of a multi-product lost sales inventory problem with capacity constraints on real-world data (Setting 4)"
   ]
  },
  {
   "cell_type": "code",
   "execution_count": null,
   "metadata": {},
   "outputs": [],
   "source": [
    "### This cell should be run once\n",
    "%load_ext autoreload\n",
    "%autoreload 2\n",
    "%cd .."
   ]
  },
  {
   "cell_type": "code",
   "execution_count": 2,
   "metadata": {},
   "outputs": [],
   "source": [
    "import pandas as pd\n",
    "import matplotlib.pyplot as plt\n",
    "import numpy as np\n",
    "\n",
    "from environment import *\n",
    "from algorithms.ddm import DDM_algorithm\n",
    "from algorithms.maxcosd_volume_constrained import MaxCOSD_Volume_Constrained_algorithm\n",
    "from simulator import Simulator"
   ]
  },
  {
   "attachments": {},
   "cell_type": "markdown",
   "metadata": {},
   "source": [
    "### Defining the environment\n",
    "* Horizon: $T=1969$\n",
    "* Number of runs: $N=1$\n",
    "* Number of products: $n=3049$\n",
    "* Demand distribution: $d_{t,i}\\sim\\text{Dataset}$\n",
    "* Cost parameters: $(p_i/h_i) \\propto 200$\n",
    "* Feasible set: $\\mathcal{Y}=\\{y\\in\\R_+^n \\; |\\; \\sum_{i=1}^n y_i \\leq 27000 \\}$\n",
    "* Constants: $G = \\sqrt{n}\\max_{i\\in[n]}\\max\\{h_i,p_i\\}$"
   ]
  },
  {
   "cell_type": "code",
   "execution_count": 3,
   "metadata": {},
   "outputs": [],
   "source": [
    "m5_demands = pd.read_csv(\"m5_experiments/m5_demands.csv\")\n",
    "nb_samples = 1\n",
    "horizon = m5_demands.period.max()\n",
    "nb_products = len(m5_demands.product_id.unique())\n",
    "\n",
    "costs_df = pd.read_csv(\"m5_experiments/m5_costs.csv\")\n",
    "holding_costs = costs_df[\"holding_cost\"].values\n",
    "penalty_costs = costs_df[\"penalty_cost\"].values\n",
    "\n",
    "demands = (m5_demands\n",
    "    [\"quantity\"]\n",
    "    .values\n",
    "    .reshape(horizon+1,nb_products)\n",
    ")\n",
    "envs = [Environment_NonPerishable_Newsvendor(demands, holding_costs, penalty_costs)]"
   ]
  },
  {
   "cell_type": "code",
   "execution_count": 4,
   "metadata": {},
   "outputs": [],
   "source": [
    "volumes = np.ones(nb_products)\n",
    "total_volume = 27000\n",
    "diameter = total_volume*np.sqrt(1/(np.sort(volumes)[0]**2)+1/(np.sort(volumes)[1]**2))\n",
    "G = np.sqrt(nb_products)*np.max(np.maximum(holding_costs,penalty_costs))"
   ]
  },
  {
   "attachments": {},
   "cell_type": "markdown",
   "metadata": {},
   "source": [
    "### Defining the algorithms\n",
    "* 64 instances of DDM with $\\gamma$ ranging from $10^{-5}$ to $10^1$\n",
    "* 64 instances of MaxCOSD with $\\gamma$ ranging from $10^{-5}$ to $10^1$"
   ]
  },
  {
   "cell_type": "code",
   "execution_count": 5,
   "metadata": {},
   "outputs": [],
   "source": [
    "list_gamma = [10**exponent for exponent in np.linspace(-5,1,9*7+1)]\n",
    "\n",
    "algs = [ DDM_algorithm(np.zeros(nb_products),volumes,total_volume, gamma_value,G,holding_costs,penalty_costs) for gamma_value in list_gamma]\n",
    "algs += [ MaxCOSD_Volume_Constrained_algorithm(np.zeros(nb_products),volumes, total_volume, gamma_value) for gamma_value in list_gamma] \n",
    "\n",
    "nb_algs = len(algs)"
   ]
  },
  {
   "cell_type": "markdown",
   "metadata": {},
   "source": [
    "### Running the simulation"
   ]
  },
  {
   "cell_type": "code",
   "execution_count": 6,
   "metadata": {},
   "outputs": [
    {
     "name": "stderr",
     "output_type": "stream",
     "text": [
      "100%|██████████| 128/128 [05:44<00:00,  2.69s/it]\n"
     ]
    }
   ],
   "source": [
    "horizons = np.unique(np.logspace(np.log10(1),np.log10(horizon),100).astype(int))\n",
    "\n",
    "sim = Simulator(envs, nb_products, nb_samples, horizons, algs,\n",
    "   lambda optimum : np.sum(volumes*optimum)<=total_volume, holding_costs, penalty_costs)\n",
    "cum_losses = sim.run()"
   ]
  },
  {
   "cell_type": "markdown",
   "metadata": {},
   "source": [
    "### Figures\n",
    "#### $R_T$ as a function of $\\gamma$ in semilogx scale"
   ]
  },
  {
   "cell_type": "code",
   "execution_count": 10,
   "metadata": {},
   "outputs": [
    {
     "data": {
      "image/png": "[encoded data removed]",
      "text/plain": [
       "<Figure size 299.52x209.52 with 1 Axes>"
      ]
     },
     "metadata": {
      "needs_background": "light"
     },
     "output_type": "display_data"
    }
   ],
   "source": [
    "ddm_mean_regret = np.array([np.mean(cum_losses[:,gamma_index,-1]-cum_losses[:,0,-1]) for gamma_index in range(1,len(list_gamma)+1)])\n",
    "maxcosd_mean_regret = np.array([np.mean(cum_losses[:,gamma_index,-1]-cum_losses[:,0,-1]) for gamma_index in range(1*len(list_gamma)+1,2*len(list_gamma)+1)])\n",
    "\n",
    "plt.figure(figsize=(4.16,2.91))\n",
    "plt.semilogx(list_gamma,ddm_mean_regret, color=\"red\", label=\"DDM\",linestyle=\"--\")\n",
    "plt.semilogx(list_gamma,maxcosd_mean_regret, color=\"blue\", label=\"MaxCOSD\")\n",
    "\n",
    "plt.ticklabel_format(axis='y', style='sci', scilimits=(0,0))\n",
    "plt.xlabel(r\"$\\gamma$\")\n",
    "plt.legend(loc=\"lower left\")\n",
    "\n",
    "plt.tight_layout()\n",
    "plt.savefig(\"images/setting_4_gamma_logx.png\", dpi=300)\n",
    "plt.show()"
   ]
  },
  {
   "cell_type": "markdown",
   "metadata": {},
   "source": [
    "#### $R_T$ as a function of $\\gamma$ in loglog scale"
   ]
  },
  {
   "cell_type": "code",
   "execution_count": 11,
   "metadata": {},
   "outputs": [
    {
     "data": {
      "image/png": "[encoded data removed]",
      "text/plain": [
       "<Figure size 299.52x209.52 with 1 Axes>"
      ]
     },
     "metadata": {
      "needs_background": "light"
     },
     "output_type": "display_data"
    }
   ],
   "source": [
    "ddm_mean_regret = np.array([np.mean(cum_losses[:,gamma_index,-1]-cum_losses[:,0,-1]) for gamma_index in range(1,len(list_gamma)+1)])\n",
    "maxcosd_mean_regret = np.array([np.mean(cum_losses[:,gamma_index,-1]-cum_losses[:,0,-1]) for gamma_index in range(1*len(list_gamma)+1,2*len(list_gamma)+1)])\n",
    "\n",
    "plt.figure(figsize=(4.16,2.91))\n",
    "plt.loglog(list_gamma,ddm_mean_regret, color=\"red\", label=\"DDM\",linestyle=\"--\")\n",
    "plt.loglog(list_gamma,maxcosd_mean_regret, color=\"blue\", label=\"MaxCOSD\")\n",
    "\n",
    "plt.xlabel(r\"$\\gamma$\")\n",
    "plt.legend(loc=\"lower left\")\n",
    "\n",
    "plt.tight_layout()\n",
    "plt.savefig(\"images/setting_4_gamma_loglog.png\", dpi=300)\n",
    "plt.show()"
   ]
  },
  {
   "cell_type": "markdown",
   "metadata": {},
   "source": [
    "#### $R_T/T$ as a function of $T$ in loglog scale"
   ]
  },
  {
   "cell_type": "code",
   "execution_count": 12,
   "metadata": {},
   "outputs": [
    {
     "data": {
      "image/png": "[encoded data removed]",
      "text/plain": [
       "<Figure size 360x252 with 1 Axes>"
      ]
     },
     "metadata": {
      "needs_background": "light"
     },
     "output_type": "display_data"
    }
   ],
   "source": [
    "ddm_gamma_index_opt = np.argmin(np.mean(cum_losses[:,1:len(list_gamma)+1,-1],axis=0))+1\n",
    "maxcosd_gamma_index_opt = np.argmin(np.mean(cum_losses[:,1*len(list_gamma)+1:2*len(list_gamma)+1,-1],axis=0))+1*len(list_gamma)+1\n",
    "colors = {ddm_gamma_index_opt:\"red\", maxcosd_gamma_index_opt:\"blue\"}\n",
    "linestyles = {ddm_gamma_index_opt:\"--\", maxcosd_gamma_index_opt:\"-\"}\n",
    "\n",
    "plt.figure(figsize=(5,3.5))\n",
    "\n",
    "for i in [ddm_gamma_index_opt, maxcosd_gamma_index_opt] :\n",
    "    y = np.mean(cum_losses[:,i,:]-cum_losses[:,0,:],axis=0)\n",
    "    y_q20 = np.quantile(cum_losses[:,i,:]-cum_losses[:,0,:],q=0.2, axis=0)\n",
    "    y_q80 = np.quantile(cum_losses[:,i,:]-cum_losses[:,0,:],q=.8, axis=0)\n",
    "    plt.loglog(horizons, y/horizons,label=algs[i-1], color=colors[i], linestyle=linestyles[i])\n",
    "\n",
    "plt.loglog(horizons,5*10**5/np.sqrt(horizons),\"-.\",color=\"k\",label=r\"$\\Theta(1/\\sqrt{T})$\")\n",
    "\n",
    "plt.xlabel(\"Horizon (T)\")\n",
    "plt.legend(loc=\"lower left\")\n",
    "plt.tight_layout()\n",
    "plt.savefig(\"images/setting_4_avgregret.png\", dpi=300)\n",
    "plt.show()"
   ]
  }
 ],
 "metadata": {
  "kernelspec": {
   "display_name": "Python 3.8.5 ('.env': venv)",
   "language": "python",
   "name": "python3"
  },
  "language_info": {
   "codemirror_mode": {
    "name": "ipython",
    "version": 3
   },
   "file_extension": ".py",
   "mimetype": "text/x-python",
   "name": "python",
   "nbconvert_exporter": "python",
   "pygments_lexer": "ipython3",
   "version": "3.8.5"
  },
  "orig_nbformat": 4,
  "vscode": {
   "interpreter": {
    "hash": "7101c6642c440e6418ba237b307f68332c965afb71baf456fe96b8b541e130eb"
   }
  }
 },
 "nbformat": 4,
 "nbformat_minor": 2
}
