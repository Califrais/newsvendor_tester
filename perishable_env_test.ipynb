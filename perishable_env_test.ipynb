{
 "cells": [
  {
   "cell_type": "code",
   "execution_count": 1,
   "metadata": {},
   "outputs": [],
   "source": [
    "%load_ext autoreload\n",
    "%autoreload 2\n",
    "\n",
    "import pandas as pd\n",
    "import scipy.stats\n",
    "import numpy as np\n",
    "import matplotlib.pyplot as plt\n",
    "\n",
    "from environment import *\n",
    "from algorithms.zhang import Zhang_algorithm\n",
    "from algorithms.rcosd import RCOSD_algorithm\n",
    "\n",
    "from tqdm.notebook import tqdm"
   ]
  },
  {
   "cell_type": "code",
   "execution_count": 2,
   "metadata": {},
   "outputs": [],
   "source": [
    "nb_products = 1\n",
    "T = 50_000\n",
    "epsilon = 2\n",
    "\n",
    "np.random.seed(10)\n",
    "env = PerishableEnvironment(nb_products,3,T,epsilon)"
   ]
  },
  {
   "cell_type": "code",
   "execution_count": 3,
   "metadata": {},
   "outputs": [
    {
     "name": "stdout",
     "output_type": "stream",
     "text": [
      "t=1, true state=[[0. 0.]],\n",
      "\txt=[0.], yt=[10.], demand=[1.], sales=[1.]\n",
      "t=2, true state=[[0. 9.]],\n",
      "\txt=[9.], yt=[10.], demand=[3.], sales=[3.]\n",
      "t=3, true state=[[6. 7.]],\n",
      "\txt=[7.], yt=[10.], demand=[2.], sales=[2.]\n",
      "t=4, true state=[[1. 4.]],\n",
      "\txt=[4.], yt=[10.], demand=[0.], sales=[0.]\n",
      "t=5, true state=[[3. 9.]],\n",
      "\txt=[9.], yt=[10.], demand=[2.], sales=[2.]\n",
      "t=6, true state=[[6. 7.]],\n",
      "\txt=[7.], yt=[10.], demand=[4.], sales=[4.]\n",
      "t=7, true state=[[1. 4.]],\n",
      "\txt=[4.], yt=[10.], demand=[3.], sales=[3.]\n",
      "t=8, true state=[[1. 7.]],\n",
      "\txt=[7.], yt=[10.], demand=[2.], sales=[2.]\n",
      "t=9, true state=[[5. 8.]],\n",
      "\txt=[8.], yt=[10.], demand=[3.], sales=[3.]\n",
      "t=10, true state=[[3. 5.]],\n",
      "\txt=[5.], yt=[10.], demand=[4.], sales=[4.]\n"
     ]
    }
   ],
   "source": [
    "yt = np.zeros(nb_products)\n",
    "for t in range(1,11) :\n",
    "    xt = env.get_state(t,yt)\n",
    "    demand = env.demands[t]\n",
    "    yt = 10*np.ones(1)\n",
    "    sales = env.get_sales(t,yt)\n",
    "    print(\"t={}, true state={},\\n\\txt={}, yt={}, demand={}, sales={}\".format(t,env.state, xt,yt,demand,sales))"
   ]
  },
  {
   "cell_type": "markdown",
   "metadata": {},
   "source": [
    "### Simulation of CUP"
   ]
  },
  {
   "cell_type": "code",
   "execution_count": 4,
   "metadata": {},
   "outputs": [
    {
     "name": "stdout",
     "output_type": "stream",
     "text": [
      "t=1\n",
      "\tEmpty system\n",
      "t=2\n",
      "\tEmpty system\n",
      "\tChanging yt from [0.] to [10.]\n",
      "t=3\n",
      "t=4\n",
      "t=5\n",
      "t=6\n",
      "t=7\n",
      "t=8\n",
      "t=9\n",
      "t=10\n"
     ]
    }
   ],
   "source": [
    "alg = Zhang_algorithm(nb_products,np.zeros(nb_products),10*np.ones(nb_products), G=1, gamma=1)\n",
    "\n",
    "yt, gt, st = np.zeros(nb_products), np.zeros(nb_products), np.zeros(nb_products)\n",
    "for t in range(1,11) :\n",
    "    print(\"t={}\".format(t))\n",
    "\n",
    "    xt = env.get_state(t,yt)\n",
    "    if((xt==0).all()) :\n",
    "        print(\"\\tEmpty system\")\n",
    "\n",
    "    new_yt = alg.next_decision(t,xt,gt,st)\n",
    "    if((yt!=new_yt).any()) :\n",
    "        print(\"\\tChanging yt from {} to {}\".format(yt,new_yt))\n",
    "        yt = new_yt\n",
    "    \n",
    "    lt = env.get_loss(t,yt)\n",
    "    gt = env.get_subgradient(t,yt)\n",
    "    st = env.get_sales(t,yt)"
   ]
  },
  {
   "cell_type": "code",
   "execution_count": 5,
   "metadata": {},
   "outputs": [
    {
     "name": "stdout",
     "output_type": "stream",
     "text": [
      "t=1\n",
      "\tyt=[5.]\n",
      "\tPositive sales occurs\n",
      "t=2\n",
      "xt=[4.], st=[1.]\n",
      "[0.]\n",
      "\tyt=[0.]\n",
      "t=3\n",
      "\tyt=[0.]\n",
      "t=4\n",
      "\tyt=[0.]\n",
      "t=5\n",
      "\tyt=[0.]\n",
      "t=6\n",
      "\tyt=[0.]\n",
      "t=7\n",
      "\tyt=[0.]\n",
      "t=8\n",
      "\tyt=[0.]\n",
      "t=9\n",
      "\tyt=[0.]\n",
      "t=10\n",
      "\tyt=[0.]\n"
     ]
    }
   ],
   "source": [
    "alg = RCOSD_algorithm(nb_products,np.zeros(nb_products),10*np.ones(nb_products), G=1, gamma=1)\n",
    "\n",
    "yt, gt, st = 0.5*np.ones(nb_products), np.zeros(nb_products), np.zeros(nb_products)\n",
    "for t in range(1,11) :\n",
    "    print(\"t={}\".format(t))\n",
    "\n",
    "    xt = env.get_state(t,yt)\n",
    "    yt = alg.next_decision(t,xt,gt,st)\n",
    "    print(\"\\tyt={}\".format(yt))\n",
    "    \n",
    "    lt = env.get_loss(t,yt)\n",
    "    gt = env.get_subgradient(t,yt)\n",
    "    st = env.get_sales(t,yt)\n",
    "    if((st>0).all()) :\n",
    "        print(\"\\tPositive sales occurs\")"
   ]
  }
 ],
 "metadata": {
  "kernelspec": {
   "display_name": "Python 3.8.5 ('.env': venv)",
   "language": "python",
   "name": "python3"
  },
  "language_info": {
   "codemirror_mode": {
    "name": "ipython",
    "version": 3
   },
   "file_extension": ".py",
   "mimetype": "text/x-python",
   "name": "python",
   "nbconvert_exporter": "python",
   "pygments_lexer": "ipython3",
   "version": "3.8.5"
  },
  "orig_nbformat": 4,
  "vscode": {
   "interpreter": {
    "hash": "e82d30a5253f587e904d5fbf7787ecfe52d7f570083e9023ff01102653f7c372"
   }
  }
 },
 "nbformat": 4,
 "nbformat_minor": 2
}
