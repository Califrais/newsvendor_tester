{
 "cells": [
  {
   "cell_type": "code",
   "execution_count": 1,
   "metadata": {},
   "outputs": [
    {
     "name": "stdout",
     "output_type": "stream",
     "text": [
      "/Users/massil/repos/newsvendor_tester\n"
     ]
    }
   ],
   "source": [
    "%load_ext autoreload\n",
    "%autoreload 2\n",
    "%cd .."
   ]
  },
  {
   "cell_type": "code",
   "execution_count": 2,
   "metadata": {},
   "outputs": [],
   "source": [
    "import scipy.stats\n",
    "import numpy as np\n",
    "\n",
    "from algorithms.cup import CUP_algorithm\n",
    "from environment import *"
   ]
  },
  {
   "cell_type": "code",
   "execution_count": 3,
   "metadata": {},
   "outputs": [],
   "source": [
    "nb_products = 1\n",
    "horizon = 100_000\n",
    "holding_costs = np.ones(nb_products)\n",
    "penalty_costs = 2*np.ones(nb_products)\n",
    "\n",
    "np.random.seed(1)\n",
    "demands = np.zeros((horizon+1,nb_products))\n",
    "demands[1:,:] = scipy.stats.randint(low=1,high=4).rvs(size=(horizon, nb_products))\n",
    "env = Environment_Perishable_Newsvendor(3,demands,holding_costs,penalty_costs)"
   ]
  },
  {
   "cell_type": "code",
   "execution_count": 4,
   "metadata": {},
   "outputs": [
    {
     "name": "stdout",
     "output_type": "stream",
     "text": [
      "t=1, true state=[[0. 0.]],\n",
      "\txt=[0.], yt=[3.], demand=[2.], sales=[2.]\n",
      "t=2, true state=[[0. 1.]],\n",
      "\txt=[1.], yt=[3.], demand=[1.], sales=[1.]\n",
      "t=3, true state=[[0. 2.]],\n",
      "\txt=[2.], yt=[3.], demand=[1.], sales=[1.]\n",
      "t=4, true state=[[1. 2.]],\n",
      "\txt=[2.], yt=[3.], demand=[2.], sales=[2.]\n",
      "t=5, true state=[[0. 1.]],\n",
      "\txt=[1.], yt=[3.], demand=[2.], sales=[2.]\n",
      "t=6, true state=[[0. 1.]],\n",
      "\txt=[1.], yt=[3.], demand=[1.], sales=[1.]\n",
      "t=7, true state=[[0. 2.]],\n",
      "\txt=[2.], yt=[3.], demand=[1.], sales=[1.]\n",
      "t=8, true state=[[1. 2.]],\n",
      "\txt=[2.], yt=[3.], demand=[2.], sales=[2.]\n",
      "t=9, true state=[[0. 1.]],\n",
      "\txt=[1.], yt=[3.], demand=[1.], sales=[1.]\n",
      "t=10, true state=[[0. 2.]],\n",
      "\txt=[2.], yt=[3.], demand=[2.], sales=[2.]\n"
     ]
    }
   ],
   "source": [
    "yt = np.zeros(nb_products)\n",
    "for t in range(1,11) :\n",
    "    xt = env.get_state(t,yt)\n",
    "    demand = env.demands[t]\n",
    "    yt = 3*np.ones(1)\n",
    "    sales = env.get_sales(t,yt)\n",
    "    print(\"t={}, true state={},\\n\\txt={}, yt={}, demand={}, sales={}\".format(t,env.state, xt,yt,demand,sales))"
   ]
  },
  {
   "cell_type": "markdown",
   "metadata": {},
   "source": [
    "### Simulation of CUP"
   ]
  },
  {
   "cell_type": "code",
   "execution_count": 7,
   "metadata": {},
   "outputs": [
    {
     "name": "stdout",
     "output_type": "stream",
     "text": [
      "t=1\n",
      "\tEmpty system\n",
      "t=2\n",
      "\tEmpty system\n",
      "\tChanging yt from [0.] to [1.]\n",
      "t=3\n",
      "\tEmpty system\n",
      "\tChanging yt from [1.] to [1.70710678]\n",
      "t=4\n",
      "t=5\n",
      "\tEmpty system\n",
      "\tChanging yt from [1.70710678] to [1.99578192]\n",
      "t=6\n",
      "\tEmpty system\n",
      "\tChanging yt from [1.99578192] to [2.49578192]\n",
      "t=7\n",
      "t=8\n",
      "t=9\n",
      "t=10\n"
     ]
    }
   ],
   "source": [
    "env.reset()\n",
    "\n",
    "initial_decision = 0*np.ones(nb_products)\n",
    "y_min = 0*np.ones(nb_products)\n",
    "y_max = 3*np.ones(nb_products)\n",
    "alg = CUP_algorithm(initial_decision,y_min,y_max,1/np.sqrt((y_max-y_min)*(y_max-y_min)), np.sqrt(nb_products)*np.max(np.maximum(holding_costs,penalty_costs)))\n",
    "\n",
    "yt, gt, st, dt = np.zeros(nb_products), np.zeros(nb_products), np.zeros(nb_products), np.zeros(nb_products)\n",
    "for t in range(1,11) :\n",
    "    print(\"t={}\".format(t))\n",
    "\n",
    "    xt = env.get_state(t,yt)\n",
    "    if((xt==0).all()) :\n",
    "        print(\"\\tEmpty system\")\n",
    "\n",
    "    new_yt = alg.next_decision(t,xt,gt,st,dt)\n",
    "    if((yt!=new_yt).any()) :\n",
    "        print(\"\\tChanging yt from {} to {}\".format(yt,new_yt))\n",
    "        yt = new_yt\n",
    "    \n",
    "    lt = env.get_loss(t,yt)\n",
    "    gt = env.get_subgradient(t,yt)\n",
    "    st = env.get_sales(t,yt)\n",
    "    dt = env.get_demand(t)"
   ]
  }
 ],
 "metadata": {
  "kernelspec": {
   "display_name": "Python 3.8.5 ('.env': venv)",
   "language": "python",
   "name": "python3"
  },
  "language_info": {
   "codemirror_mode": {
    "name": "ipython",
    "version": 3
   },
   "file_extension": ".py",
   "mimetype": "text/x-python",
   "name": "python",
   "nbconvert_exporter": "python",
   "pygments_lexer": "ipython3",
   "version": "3.8.5"
  },
  "orig_nbformat": 4,
  "vscode": {
   "interpreter": {
    "hash": "7101c6642c440e6418ba237b307f68332c965afb71baf456fe96b8b541e130eb"
   }
  }
 },
 "nbformat": 4,
 "nbformat_minor": 2
}
