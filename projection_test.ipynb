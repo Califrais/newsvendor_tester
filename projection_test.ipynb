{
 "cells": [
  {
   "cell_type": "code",
   "execution_count": 1,
   "metadata": {},
   "outputs": [],
   "source": [
    "%load_ext autoreload\n",
    "%autoreload 2\n",
    "\n",
    "import numpy as np\n",
    "import matplotlib.pyplot as plt"
   ]
  },
  {
   "cell_type": "code",
   "execution_count": 2,
   "metadata": {},
   "outputs": [],
   "source": [
    "def projection_ok(v, radius=1) :\n",
    "    n, = v.shape\n",
    "    u = v.clip(min=0)\n",
    "    if np.sum(u) <= radius :\n",
    "        return u\n",
    "    else :\n",
    "        x = np.sort(v)[::-1]\n",
    "        cssv = np.cumsum(x)\n",
    "        rho = np.nonzero(x * np.arange(1, n+1) > (cssv - radius))[0][-1]\n",
    "        theta = (cssv[rho] - radius) / (rho+1)\n",
    "        z = (v - theta).clip(min=0)\n",
    "    return z"
   ]
  },
  {
   "cell_type": "code",
   "execution_count": 3,
   "metadata": {},
   "outputs": [],
   "source": [
    "def projection_4(vector, volumes, total_volume) :\n",
    "    u = vector.clip(min=0)\n",
    "    if(np.sum(u*volumes)<=total_volume):\n",
    "        return u\n",
    "    sorted_indexes = np.argsort(vector/volumes)\n",
    "    \n",
    "    a = volumes[sorted_indexes[-1]]**2\n",
    "    b = (volumes*vector)[sorted_indexes[-1]]\n",
    "    for i in range(len(u)-2,-1,-1) :\n",
    "        if( (b-total_volume)/a > (vector/volumes)[sorted_indexes[i]]) :\n",
    "            break\n",
    "        a += volumes[sorted_indexes[i]]**2\n",
    "        b += (volumes*vector)[sorted_indexes[i]]\n",
    "\n",
    "    theta = (b-total_volume)/a\n",
    "    output = (vector-theta*volumes).clip(min=0)\n",
    "\n",
    "    print(\"Theta: {}, Slackness condition: {}, Theta constraint: {}\".format(theta, theta*(np.sum(volumes*output)-total_volume), np.sum(volumes*output)-total_volume))\n",
    "    #assert (theta>=0) and np.abs(theta*(np.sum(volumes*output)-total_volume))<=10**-5 and np.sum(volumes*output)<=total_volume, \"KKT conditions failed\"\n",
    "    return output"
   ]
  },
  {
   "cell_type": "code",
   "execution_count": 4,
   "metadata": {},
   "outputs": [],
   "source": [
    "def projection_ter(vector, volumes, total_volume) :\n",
    "    u = vector.clip(min=0)\n",
    "    if(np.sum(u*volumes)<=total_volume):\n",
    "        return u\n",
    "    sorted_indexes = np.argsort(vector/volumes)\n",
    "    a = volumes[sorted_indexes[-1]]**2\n",
    "    b = (volumes*vector)[sorted_indexes[-1]]\n",
    "    for i in range(len(u)-2,-1,-1) :\n",
    "        if(b-(vector/volumes)[sorted_indexes[i]]*a >= total_volume) :\n",
    "            theta = (b-total_volume)/a\n",
    "            return (vector-theta*volumes).clip(min=0)\n",
    "        a += volumes[sorted_indexes[i]]**2\n",
    "        b += (volumes*vector)[sorted_indexes[i]]\n",
    "    theta = (b-total_volume)/a\n",
    "    output = (vector-theta*volumes).clip(min=0)\n",
    "\n",
    "    print(\"Theta: {}, Slackness condition: {}, Theta constraint: {}\".format(theta, theta*(np.sum(volumes*output)-total_volume), np.sum(volumes*output)-total_volume))\n",
    "    return output\n"
   ]
  },
  {
   "cell_type": "code",
   "execution_count": 5,
   "metadata": {},
   "outputs": [],
   "source": [
    "def projection_bis(vector, volumes, total_volume) :\n",
    "    def g(theta) :\n",
    "        return np.sum(volumes*(vector-theta*volumes).clip(min=0))\n",
    "\n",
    "    u = vector.clip(min=0)\n",
    "    if(np.sum(u*volumes)<=total_volume):\n",
    "        return u\n",
    "    else :\n",
    "        sorted_indexes = np.argsort(vector/volumes)\n",
    "        for i in range(len(u)-2,-1,-1) :\n",
    "            if(g((vector/volumes)[sorted_indexes[i]])>=total_volume) :\n",
    "                theta = (np.sum((vector*volumes)[sorted_indexes[i+1:]])-total_volume)/np.sum((volumes*volumes)[sorted_indexes[i+1:]])\n",
    "                return (vector-theta*volumes).clip(min=0)\n",
    "        theta = (np.sum((vector*volumes))-total_volume)/np.sum((volumes*volumes))\n",
    "\n",
    "        output = (vector-theta*volumes).clip(min=0)\n",
    "        print(\"Theta: {}, Slackness condition: {}, Theta constraint: {}\".format(theta, theta*(np.sum(volumes*output)-total_volume), np.sum(volumes*output)-total_volume))\n",
    "        return output\n"
   ]
  },
  {
   "cell_type": "code",
   "execution_count": 6,
   "metadata": {},
   "outputs": [],
   "source": [
    "def projection(v, radius=1) :\n",
    "    n, = v.shape\n",
    "    u = v.clip(min=0)\n",
    "    if np.sum(u) <= radius :\n",
    "        return u\n",
    "    else :\n",
    "        x = np.sort(v)[::-1]\n",
    "        cssv = np.cumsum(x)\n",
    "        rho = np.nonzero(x * np.arange(1, n+1) > (cssv - radius))[0][-1]\n",
    "        theta = (cssv[rho] - radius) / (rho+1)\n",
    "        z = (v - theta).clip(min=0)\n",
    "    return z"
   ]
  },
  {
   "cell_type": "code",
   "execution_count": 7,
   "metadata": {},
   "outputs": [],
   "source": [
    "def projection_bounds(v,radius=1,min_bounds=0) :\n",
    "    assert radius-np.sum(min_bounds)>=0, \"Bounds do not respect the constraint: np.sum(min_bounds)<=radius\"\n",
    "    return projection(v-min_bounds, radius=radius-np.sum(min_bounds))+min_bounds"
   ]
  },
  {
   "cell_type": "code",
   "execution_count": 1,
   "metadata": {},
   "outputs": [
    {
     "ename": "NameError",
     "evalue": "name 'np' is not defined",
     "output_type": "error",
     "traceback": [
      "\u001b[0;31m---------------------------------------------------------------------------\u001b[0m",
      "\u001b[0;31mNameError\u001b[0m                                 Traceback (most recent call last)",
      "Cell \u001b[0;32mIn [1], line 1\u001b[0m\n\u001b[0;32m----> 1\u001b[0m min_bounds \u001b[39m=\u001b[39m np\u001b[39m.\u001b[39marray([\u001b[39m0.1\u001b[39m, \u001b[39m0.1\u001b[39m])\n\u001b[1;32m      2\u001b[0m plt\u001b[39m.\u001b[39mfigure(figsize\u001b[39m=\u001b[39m(\u001b[39m8\u001b[39m,\u001b[39m8\u001b[39m))\n\u001b[1;32m      3\u001b[0m \u001b[39mfor\u001b[39;00m i \u001b[39min\u001b[39;00m \u001b[39mrange\u001b[39m(\u001b[39m1000\u001b[39m) :\n",
      "\u001b[0;31mNameError\u001b[0m: name 'np' is not defined"
     ]
    }
   ],
   "source": [
    "min_bounds = np.array([0.1, 0.1])\n",
    "plt.figure(figsize=(8,8))\n",
    "for i in range(1000) :\n",
    "    point = np.random.uniform(low=-.1,high=1.1,size=2)\n",
    "    target = projection_4(point,np.ones(2), 1)\n",
    "    plt.arrow(point[0], point[1], target[0]-point[0], target[1]-point[1],color=\"black\")\n",
    "plt.show()"
   ]
  }
 ],
 "metadata": {
  "kernelspec": {
   "display_name": "Python 3.8.5 ('.env': venv)",
   "language": "python",
   "name": "python3"
  },
  "language_info": {
   "codemirror_mode": {
    "name": "ipython",
    "version": 3
   },
   "file_extension": ".py",
   "mimetype": "text/x-python",
   "name": "python",
   "nbconvert_exporter": "python",
   "pygments_lexer": "ipython3",
   "version": "3.8.5"
  },
  "orig_nbformat": 4,
  "vscode": {
   "interpreter": {
    "hash": "e82d30a5253f587e904d5fbf7787ecfe52d7f570083e9023ff01102653f7c372"
   }
  }
 },
 "nbformat": 4,
 "nbformat_minor": 2
}
